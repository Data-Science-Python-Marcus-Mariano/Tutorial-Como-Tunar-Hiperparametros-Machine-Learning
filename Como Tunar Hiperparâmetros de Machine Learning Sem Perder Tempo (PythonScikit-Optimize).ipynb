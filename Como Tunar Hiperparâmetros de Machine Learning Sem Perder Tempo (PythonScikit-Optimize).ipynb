{
 "cells": [
  {
   "cell_type": "markdown",
   "metadata": {},
   "source": [
    "# Como Tunar Hiperparâmetros de Machine Learning Sem Perder Tempo (PythonScikit-Optimize)\n",
    "\n",
    "Tutorial made from 'Como Tunar Hiperparâmetros de Machine Learning Sem Perder Tempo (Python/Scikit-Optimize)' (Mario Filho - Inteligência Artificial) by Marcus Mariano\n",
    "\n",
    "**Como Tunar Hiperparâmetros de Machine Learning: [here.](https://www.youtube.com/watch?v=WhnkeasZNHI)**  \n",
    "**Scikit-Optimize, or skopt: [Doc.](https://scikit-optimize.github.io/)**  \n",
    "**Referência para aplicações práticas de otimização: [Blog.](https://sigopt.com/blog)**"
   ]
  },
  {
   "cell_type": "code",
   "execution_count": 1,
   "metadata": {},
   "outputs": [],
   "source": [
    "import pandas as pd\n",
    "import numpy as np\n",
    "%matplotlib inline"
   ]
  },
  {
   "cell_type": "code",
   "execution_count": 2,
   "metadata": {},
   "outputs": [],
   "source": [
    "data = pd.read_csv(\"data/winequality-red.csv\")"
   ]
  },
  {
   "cell_type": "code",
   "execution_count": 3,
   "metadata": {},
   "outputs": [
    {
     "data": {
      "text/html": [
       "<div>\n",
       "<style scoped>\n",
       "    .dataframe tbody tr th:only-of-type {\n",
       "        vertical-align: middle;\n",
       "    }\n",
       "\n",
       "    .dataframe tbody tr th {\n",
       "        vertical-align: top;\n",
       "    }\n",
       "\n",
       "    .dataframe thead th {\n",
       "        text-align: right;\n",
       "    }\n",
       "</style>\n",
       "<table border=\"1\" class=\"dataframe\">\n",
       "  <thead>\n",
       "    <tr style=\"text-align: right;\">\n",
       "      <th></th>\n",
       "      <th>fixed acidity</th>\n",
       "      <th>volatile acidity</th>\n",
       "      <th>citric acid</th>\n",
       "      <th>residual sugar</th>\n",
       "      <th>chlorides</th>\n",
       "      <th>free sulfur dioxide</th>\n",
       "      <th>total sulfur dioxide</th>\n",
       "      <th>density</th>\n",
       "      <th>pH</th>\n",
       "      <th>sulphates</th>\n",
       "      <th>alcohol</th>\n",
       "      <th>quality</th>\n",
       "    </tr>\n",
       "  </thead>\n",
       "  <tbody>\n",
       "    <tr>\n",
       "      <th>0</th>\n",
       "      <td>7.4</td>\n",
       "      <td>0.70</td>\n",
       "      <td>0.00</td>\n",
       "      <td>1.9</td>\n",
       "      <td>0.076</td>\n",
       "      <td>11.0</td>\n",
       "      <td>34.0</td>\n",
       "      <td>0.9978</td>\n",
       "      <td>3.51</td>\n",
       "      <td>0.56</td>\n",
       "      <td>9.4</td>\n",
       "      <td>5</td>\n",
       "    </tr>\n",
       "    <tr>\n",
       "      <th>1</th>\n",
       "      <td>7.8</td>\n",
       "      <td>0.88</td>\n",
       "      <td>0.00</td>\n",
       "      <td>2.6</td>\n",
       "      <td>0.098</td>\n",
       "      <td>25.0</td>\n",
       "      <td>67.0</td>\n",
       "      <td>0.9968</td>\n",
       "      <td>3.20</td>\n",
       "      <td>0.68</td>\n",
       "      <td>9.8</td>\n",
       "      <td>5</td>\n",
       "    </tr>\n",
       "    <tr>\n",
       "      <th>2</th>\n",
       "      <td>7.8</td>\n",
       "      <td>0.76</td>\n",
       "      <td>0.04</td>\n",
       "      <td>2.3</td>\n",
       "      <td>0.092</td>\n",
       "      <td>15.0</td>\n",
       "      <td>54.0</td>\n",
       "      <td>0.9970</td>\n",
       "      <td>3.26</td>\n",
       "      <td>0.65</td>\n",
       "      <td>9.8</td>\n",
       "      <td>5</td>\n",
       "    </tr>\n",
       "    <tr>\n",
       "      <th>3</th>\n",
       "      <td>11.2</td>\n",
       "      <td>0.28</td>\n",
       "      <td>0.56</td>\n",
       "      <td>1.9</td>\n",
       "      <td>0.075</td>\n",
       "      <td>17.0</td>\n",
       "      <td>60.0</td>\n",
       "      <td>0.9980</td>\n",
       "      <td>3.16</td>\n",
       "      <td>0.58</td>\n",
       "      <td>9.8</td>\n",
       "      <td>6</td>\n",
       "    </tr>\n",
       "    <tr>\n",
       "      <th>4</th>\n",
       "      <td>7.4</td>\n",
       "      <td>0.70</td>\n",
       "      <td>0.00</td>\n",
       "      <td>1.9</td>\n",
       "      <td>0.076</td>\n",
       "      <td>11.0</td>\n",
       "      <td>34.0</td>\n",
       "      <td>0.9978</td>\n",
       "      <td>3.51</td>\n",
       "      <td>0.56</td>\n",
       "      <td>9.4</td>\n",
       "      <td>5</td>\n",
       "    </tr>\n",
       "  </tbody>\n",
       "</table>\n",
       "</div>"
      ],
      "text/plain": [
       "   fixed acidity  volatile acidity  citric acid  residual sugar  chlorides  \\\n",
       "0            7.4              0.70         0.00             1.9      0.076   \n",
       "1            7.8              0.88         0.00             2.6      0.098   \n",
       "2            7.8              0.76         0.04             2.3      0.092   \n",
       "3           11.2              0.28         0.56             1.9      0.075   \n",
       "4            7.4              0.70         0.00             1.9      0.076   \n",
       "\n",
       "   free sulfur dioxide  total sulfur dioxide  density    pH  sulphates  \\\n",
       "0                 11.0                  34.0   0.9978  3.51       0.56   \n",
       "1                 25.0                  67.0   0.9968  3.20       0.68   \n",
       "2                 15.0                  54.0   0.9970  3.26       0.65   \n",
       "3                 17.0                  60.0   0.9980  3.16       0.58   \n",
       "4                 11.0                  34.0   0.9978  3.51       0.56   \n",
       "\n",
       "   alcohol  quality  \n",
       "0      9.4        5  \n",
       "1      9.8        5  \n",
       "2      9.8        5  \n",
       "3      9.8        6  \n",
       "4      9.4        5  "
      ]
     },
     "execution_count": 3,
     "metadata": {},
     "output_type": "execute_result"
    }
   ],
   "source": [
    "data.head()"
   ]
  },
  {
   "cell_type": "code",
   "execution_count": 4,
   "metadata": {},
   "outputs": [
    {
     "data": {
      "text/plain": [
       "3     10\n",
       "4     53\n",
       "5    681\n",
       "6    638\n",
       "7    199\n",
       "8     18\n",
       "Name: quality, dtype: int64"
      ]
     },
     "execution_count": 4,
     "metadata": {},
     "output_type": "execute_result"
    }
   ],
   "source": [
    "data['quality'].value_counts().sort_index()"
   ]
  },
  {
   "cell_type": "code",
   "execution_count": 4,
   "metadata": {},
   "outputs": [],
   "source": [
    "data['vinho_bom'] = data['quality'].map(lambda x: 0 if x < 7 else 1)"
   ]
  },
  {
   "cell_type": "code",
   "execution_count": 5,
   "metadata": {},
   "outputs": [],
   "source": [
    "from lightgbm import LGBMClassifier"
   ]
  },
  {
   "cell_type": "code",
   "execution_count": 7,
   "metadata": {},
   "outputs": [],
   "source": [
    "?LGBMClassifier"
   ]
  },
  {
   "cell_type": "code",
   "execution_count": 6,
   "metadata": {},
   "outputs": [],
   "source": [
    "from sklearn.model_selection import train_test_split"
   ]
  },
  {
   "cell_type": "code",
   "execution_count": 7,
   "metadata": {},
   "outputs": [],
   "source": [
    "Xtrain, Xtest, ytrain, ytest = train_test_split(data.iloc[:, :-2], \n",
    "                                                data['vinho_bom'], \n",
    "                                                train_size=0.5)"
   ]
  },
  {
   "cell_type": "code",
   "execution_count": 8,
   "metadata": {},
   "outputs": [
    {
     "data": {
      "text/plain": [
       "((799, 11), (800, 11), (799,), (800,))"
      ]
     },
     "execution_count": 8,
     "metadata": {},
     "output_type": "execute_result"
    }
   ],
   "source": [
    "Xtrain.shape, Xtest.shape, ytrain.shape, ytest.shape"
   ]
  },
  {
   "cell_type": "code",
   "execution_count": 9,
   "metadata": {},
   "outputs": [
    {
     "data": {
      "text/html": [
       "<div>\n",
       "<style scoped>\n",
       "    .dataframe tbody tr th:only-of-type {\n",
       "        vertical-align: middle;\n",
       "    }\n",
       "\n",
       "    .dataframe tbody tr th {\n",
       "        vertical-align: top;\n",
       "    }\n",
       "\n",
       "    .dataframe thead th {\n",
       "        text-align: right;\n",
       "    }\n",
       "</style>\n",
       "<table border=\"1\" class=\"dataframe\">\n",
       "  <thead>\n",
       "    <tr style=\"text-align: right;\">\n",
       "      <th></th>\n",
       "      <th>fixed acidity</th>\n",
       "      <th>volatile acidity</th>\n",
       "      <th>citric acid</th>\n",
       "      <th>residual sugar</th>\n",
       "      <th>chlorides</th>\n",
       "      <th>free sulfur dioxide</th>\n",
       "      <th>total sulfur dioxide</th>\n",
       "      <th>density</th>\n",
       "      <th>pH</th>\n",
       "      <th>sulphates</th>\n",
       "      <th>alcohol</th>\n",
       "    </tr>\n",
       "  </thead>\n",
       "  <tbody>\n",
       "    <tr>\n",
       "      <th>1563</th>\n",
       "      <td>7.2</td>\n",
       "      <td>0.695</td>\n",
       "      <td>0.13</td>\n",
       "      <td>2.0</td>\n",
       "      <td>0.076</td>\n",
       "      <td>12.0</td>\n",
       "      <td>20.0</td>\n",
       "      <td>0.99546</td>\n",
       "      <td>3.29</td>\n",
       "      <td>0.54</td>\n",
       "      <td>10.1</td>\n",
       "    </tr>\n",
       "    <tr>\n",
       "      <th>1115</th>\n",
       "      <td>7.0</td>\n",
       "      <td>0.690</td>\n",
       "      <td>0.07</td>\n",
       "      <td>2.5</td>\n",
       "      <td>0.091</td>\n",
       "      <td>15.0</td>\n",
       "      <td>21.0</td>\n",
       "      <td>0.99572</td>\n",
       "      <td>3.38</td>\n",
       "      <td>0.60</td>\n",
       "      <td>11.3</td>\n",
       "    </tr>\n",
       "    <tr>\n",
       "      <th>210</th>\n",
       "      <td>9.7</td>\n",
       "      <td>0.530</td>\n",
       "      <td>0.60</td>\n",
       "      <td>2.0</td>\n",
       "      <td>0.039</td>\n",
       "      <td>5.0</td>\n",
       "      <td>19.0</td>\n",
       "      <td>0.99585</td>\n",
       "      <td>3.30</td>\n",
       "      <td>0.86</td>\n",
       "      <td>12.4</td>\n",
       "    </tr>\n",
       "    <tr>\n",
       "      <th>216</th>\n",
       "      <td>8.7</td>\n",
       "      <td>0.625</td>\n",
       "      <td>0.16</td>\n",
       "      <td>2.0</td>\n",
       "      <td>0.101</td>\n",
       "      <td>13.0</td>\n",
       "      <td>49.0</td>\n",
       "      <td>0.99620</td>\n",
       "      <td>3.14</td>\n",
       "      <td>0.57</td>\n",
       "      <td>11.0</td>\n",
       "    </tr>\n",
       "    <tr>\n",
       "      <th>364</th>\n",
       "      <td>12.8</td>\n",
       "      <td>0.615</td>\n",
       "      <td>0.66</td>\n",
       "      <td>5.8</td>\n",
       "      <td>0.083</td>\n",
       "      <td>7.0</td>\n",
       "      <td>42.0</td>\n",
       "      <td>1.00220</td>\n",
       "      <td>3.07</td>\n",
       "      <td>0.73</td>\n",
       "      <td>10.0</td>\n",
       "    </tr>\n",
       "  </tbody>\n",
       "</table>\n",
       "</div>"
      ],
      "text/plain": [
       "      fixed acidity  volatile acidity  citric acid  residual sugar  chlorides  \\\n",
       "1563            7.2             0.695         0.13             2.0      0.076   \n",
       "1115            7.0             0.690         0.07             2.5      0.091   \n",
       "210             9.7             0.530         0.60             2.0      0.039   \n",
       "216             8.7             0.625         0.16             2.0      0.101   \n",
       "364            12.8             0.615         0.66             5.8      0.083   \n",
       "\n",
       "      free sulfur dioxide  total sulfur dioxide  density    pH  sulphates  \\\n",
       "1563                 12.0                  20.0  0.99546  3.29       0.54   \n",
       "1115                 15.0                  21.0  0.99572  3.38       0.60   \n",
       "210                   5.0                  19.0  0.99585  3.30       0.86   \n",
       "216                  13.0                  49.0  0.99620  3.14       0.57   \n",
       "364                   7.0                  42.0  1.00220  3.07       0.73   \n",
       "\n",
       "      alcohol  \n",
       "1563     10.1  \n",
       "1115     11.3  \n",
       "210      12.4  \n",
       "216      11.0  \n",
       "364      10.0  "
      ]
     },
     "execution_count": 9,
     "metadata": {},
     "output_type": "execute_result"
    }
   ],
   "source": [
    "Xtrain.head()"
   ]
  },
  {
   "cell_type": "code",
   "execution_count": 10,
   "metadata": {},
   "outputs": [
    {
     "data": {
      "text/plain": [
       "10000000"
      ]
     },
     "execution_count": 10,
     "metadata": {},
     "output_type": "execute_result"
    }
   ],
   "source": [
    "10**7"
   ]
  },
  {
   "cell_type": "markdown",
   "metadata": {},
   "source": [
    "10 * 10 * 10 ..."
   ]
  },
  {
   "cell_type": "code",
   "execution_count": 11,
   "metadata": {},
   "outputs": [
    {
     "data": {
      "text/plain": [
       "LGBMClassifier(boosting_type='gbdt', class_weight=None, colsample_bytree=1.0,\n",
       "               importance_type='split', learning_rate=0.1, max_depth=-1,\n",
       "               min_child_samples=20, min_child_weight=0.001, min_split_gain=0.0,\n",
       "               n_estimators=100, n_jobs=-1, num_leaves=31, objective=None,\n",
       "               random_state=0, reg_alpha=0.0, reg_lambda=0.0, silent=True,\n",
       "               subsample=1.0, subsample_for_bin=200000, subsample_freq=0)"
      ]
     },
     "execution_count": 11,
     "metadata": {},
     "output_type": "execute_result"
    }
   ],
   "source": [
    "mdl = LGBMClassifier(random_state=0)\n",
    "mdl.fit(Xtrain, ytrain)"
   ]
  },
  {
   "cell_type": "code",
   "execution_count": 12,
   "metadata": {},
   "outputs": [],
   "source": [
    "from sklearn.metrics import roc_auc_score\n",
    "\n",
    "p = mdl.predict_proba(Xtest)[:, 1]"
   ]
  },
  {
   "cell_type": "code",
   "execution_count": 13,
   "metadata": {},
   "outputs": [
    {
     "data": {
      "text/plain": [
       "0.8824309876209246"
      ]
     },
     "execution_count": 13,
     "metadata": {},
     "output_type": "execute_result"
    }
   ],
   "source": [
    "roc_auc_score(ytest, p)"
   ]
  },
  {
   "cell_type": "markdown",
   "metadata": {},
   "source": [
    "# Random search - busca aleatória"
   ]
  },
  {
   "cell_type": "markdown",
   "metadata": {},
   "source": [
    "1, 2, 3, 4, 5 - [1,2,3,4,5] -> [2], [5]"
   ]
  },
  {
   "cell_type": "code",
   "execution_count": 14,
   "metadata": {},
   "outputs": [
    {
     "name": "stderr",
     "output_type": "stream",
     "text": [
      "C:\\Users\\marcus\\Anaconda3\\lib\\site-packages\\sklearn\\externals\\joblib\\__init__.py:15: DeprecationWarning: sklearn.externals.joblib is deprecated in 0.21 and will be removed in 0.23. Please import this functionality directly from joblib, which can be installed with: pip install joblib. If this warning is raised when loading pickled models, you may need to re-serialize those models with scikit-learn 0.21+.\n",
      "  warnings.warn(msg, category=DeprecationWarning)\n"
     ]
    }
   ],
   "source": [
    "from skopt import dummy_minimize"
   ]
  },
  {
   "cell_type": "code",
   "execution_count": 29,
   "metadata": {},
   "outputs": [],
   "source": [
    "?dummy_minimize"
   ]
  },
  {
   "cell_type": "code",
   "execution_count": 17,
   "metadata": {},
   "outputs": [
    {
     "name": "stdout",
     "output_type": "stream",
     "text": [
      "Iteration No: 1 started. Evaluating function at random point.\n",
      "[0.09871192514273254, 74, 10, 0.3372159440002478, 0.23208030173540176] \n",
      "\n",
      "Iteration No: 1 ended. Evaluation done at random point.\n",
      "Time taken: 0.1179\n",
      "Function value obtained: -0.8677\n",
      "Current minimum: -0.8677\n",
      "Iteration No: 2 started. Evaluating function at random point.\n",
      "[0.001529949829431263, 78, 72, 0.3782826906908954, 0.457090726807603] \n",
      "\n",
      "Iteration No: 2 ended. Evaluation done at random point.\n",
      "Time taken: 0.0580\n",
      "Function value obtained: -0.8674\n",
      "Current minimum: -0.8677\n",
      "Iteration No: 3 started. Evaluating function at random point.\n",
      "[0.01195730942971637, 128, 19, 0.5483207515942279, 0.49910760440160107] \n",
      "\n",
      "Iteration No: 3 ended. Evaluation done at random point.\n",
      "Time taken: 0.1169\n",
      "Function value obtained: -0.8772\n",
      "Current minimum: -0.8772\n",
      "Iteration No: 4 started. Evaluating function at random point.\n",
      "[0.0028784217488024557, 16, 51, 0.9182639233502714, 0.5114843271882895] \n",
      "\n",
      "Iteration No: 4 ended. Evaluation done at random point.\n",
      "Time taken: 0.0849\n",
      "Function value obtained: -0.8673\n",
      "Current minimum: -0.8772\n",
      "Iteration No: 5 started. Evaluating function at random point.\n",
      "[0.007267702383040958, 96, 97, 0.7894697745197069, 0.7443734643715278] \n",
      "\n",
      "Iteration No: 5 ended. Evaluation done at random point.\n",
      "Time taken: 0.0680\n",
      "Function value obtained: -0.8662\n",
      "Current minimum: -0.8772\n",
      "Iteration No: 6 started. Evaluating function at random point.\n",
      "[0.04031948793713315, 63, 23, 0.5422449214947946, 0.8785182267810852] \n",
      "\n",
      "Iteration No: 6 ended. Evaluation done at random point.\n",
      "Time taken: 0.1059\n",
      "Function value obtained: -0.8802\n",
      "Current minimum: -0.8802\n",
      "Iteration No: 7 started. Evaluating function at random point.\n",
      "[0.045529597892867466, 90, 14, 0.30939747550591, 0.15331888117140713] \n",
      "\n",
      "Iteration No: 7 ended. Evaluation done at random point.\n",
      "Time taken: 0.0780\n",
      "Function value obtained: -0.8672\n",
      "Current minimum: -0.8802\n",
      "Iteration No: 8 started. Evaluating function at random point.\n",
      "[0.021930881089764206, 73, 4, 0.6880713925510277, 0.47060909107214777] \n",
      "\n",
      "Iteration No: 8 ended. Evaluation done at random point.\n",
      "Time taken: 0.2519\n",
      "Function value obtained: -0.8849\n",
      "Current minimum: -0.8849\n",
      "Iteration No: 9 started. Evaluating function at random point.\n",
      "[0.002483715204721354, 26, 44, 0.7021758812975045, 0.8511631047076357] \n",
      "\n",
      "Iteration No: 9 ended. Evaluation done at random point.\n",
      "Time taken: 0.0800\n",
      "Function value obtained: -0.8586\n",
      "Current minimum: -0.8849\n",
      "Iteration No: 10 started. Evaluating function at random point.\n",
      "[0.0010878688833867167, 43, 83, 0.98941803446117, 0.7733490889418555] \n",
      "\n",
      "Iteration No: 10 ended. Evaluation done at random point.\n",
      "Time taken: 0.0740\n",
      "Function value obtained: -0.8466\n",
      "Current minimum: -0.8849\n",
      "Iteration No: 11 started. Evaluating function at random point.\n",
      "[0.003638211850540798, 89, 8, 0.14806470624875995, 0.5031041735583147] \n",
      "\n",
      "Iteration No: 11 ended. Evaluation done at random point.\n",
      "Time taken: 0.0949\n",
      "Function value obtained: -0.8583\n",
      "Current minimum: -0.8849\n",
      "Iteration No: 12 started. Evaluating function at random point.\n",
      "[0.06564339077069616, 105, 24, 0.163515944581681, 0.572319439183401] \n",
      "\n",
      "Iteration No: 12 ended. Evaluation done at random point.\n",
      "Time taken: 0.0660\n",
      "Function value obtained: -0.8665\n",
      "Current minimum: -0.8849\n",
      "Iteration No: 13 started. Evaluating function at random point.\n",
      "[0.0014697585967435188, 40, 9, 0.9149259627034465, 0.36903710098874454] \n",
      "\n",
      "Iteration No: 13 ended. Evaluation done at random point.\n",
      "Time taken: 0.1564\n",
      "Function value obtained: -0.8814\n",
      "Current minimum: -0.8849\n",
      "Iteration No: 14 started. Evaluating function at random point.\n",
      "[0.014749532034944692, 89, 26, 0.633241401906253, 0.9608820910034701] \n",
      "\n",
      "Iteration No: 14 ended. Evaluation done at random point.\n",
      "Time taken: 0.1169\n",
      "Function value obtained: -0.8748\n",
      "Current minimum: -0.8849\n",
      "Iteration No: 15 started. Evaluating function at random point.\n",
      "[0.0033262735259356143, 34, 89, 0.5567760660749166, 0.9549443246793757] \n",
      "\n",
      "Iteration No: 15 ended. Evaluation done at random point.\n",
      "Time taken: 0.0650\n",
      "Function value obtained: -0.8525\n",
      "Current minimum: -0.8849\n",
      "Iteration No: 16 started. Evaluating function at random point.\n",
      "[0.009685436253688836, 2, 78, 0.09307844214592059, 0.225969507272543] \n",
      "\n",
      "Iteration No: 16 ended. Evaluation done at random point.\n",
      "Time taken: 0.0810\n",
      "Function value obtained: -0.5000\n",
      "Current minimum: -0.8849\n",
      "Iteration No: 17 started. Evaluating function at random point.\n",
      "[0.03844210597293627, 93, 22, 0.8889692020284521, 0.5867093706408683] \n",
      "\n",
      "Iteration No: 17 ended. Evaluation done at random point.\n",
      "Time taken: 0.1299\n",
      "Function value obtained: -0.8893\n",
      "Current minimum: -0.8893\n",
      "Iteration No: 18 started. Evaluating function at random point.\n",
      "[0.00786973960931508, 45, 21, 0.40870512409353993, 0.5845822248519866] \n",
      "\n",
      "Iteration No: 18 ended. Evaluation done at random point.\n",
      "Time taken: 0.0929\n",
      "Function value obtained: -0.8727\n",
      "Current minimum: -0.8893\n",
      "Iteration No: 19 started. Evaluating function at random point.\n",
      "[0.020164978538544195, 59, 83, 0.6559446598566927, 0.2136833965403995] \n",
      "\n",
      "Iteration No: 19 ended. Evaluation done at random point.\n",
      "Time taken: 0.0680\n",
      "Function value obtained: -0.8685\n",
      "Current minimum: -0.8893\n",
      "Iteration No: 20 started. Evaluating function at random point.\n",
      "[0.024010940718920456, 9, 25, 0.3814534248789504, 0.3429351025885235] \n",
      "\n",
      "Iteration No: 20 ended. Evaluation done at random point.\n",
      "Time taken: 0.0929\n",
      "Function value obtained: -0.8806\n",
      "Current minimum: -0.8893\n",
      "Iteration No: 21 started. Evaluating function at random point.\n",
      "[0.061911658253265375, 96, 61, 0.9665980447909663, 0.6970973480366033] \n",
      "\n",
      "Iteration No: 21 ended. Evaluation done at random point.\n",
      "Time taken: 0.0850\n",
      "Function value obtained: -0.8872\n",
      "Current minimum: -0.8893\n",
      "Iteration No: 22 started. Evaluating function at random point.\n",
      "[0.01751424579956557, 110, 93, 0.9520147957717178, 0.5049209201319466] \n",
      "\n",
      "Iteration No: 22 ended. Evaluation done at random point.\n",
      "Time taken: 0.0720\n",
      "Function value obtained: -0.8739\n",
      "Current minimum: -0.8893\n",
      "Iteration No: 23 started. Evaluating function at random point.\n",
      "[0.014347598955915168, 84, 87, 0.27517563123087635, 0.9130415685060285] \n",
      "\n",
      "Iteration No: 23 ended. Evaluation done at random point.\n",
      "Time taken: 0.0600\n",
      "Function value obtained: -0.8673\n",
      "Current minimum: -0.8893\n",
      "Iteration No: 24 started. Evaluating function at random point.\n",
      "[0.014039737029591284, 17, 6, 0.6362876679396877, 0.3939804115948866] \n",
      "\n",
      "Iteration No: 24 ended. Evaluation done at random point.\n",
      "Time taken: 0.1339\n",
      "Function value obtained: -0.8900\n",
      "Current minimum: -0.8900\n",
      "Iteration No: 25 started. Evaluating function at random point.\n",
      "[0.011327034010293172, 103, 14, 0.3894062720023748, 0.9176816358278194] \n",
      "\n",
      "Iteration No: 25 ended. Evaluation done at random point.\n",
      "Time taken: 0.1189\n",
      "Function value obtained: -0.8742\n",
      "Current minimum: -0.8900\n",
      "Iteration No: 26 started. Evaluating function at random point.\n",
      "[0.017649005221070314, 98, 56, 0.9329653720565734, 0.7218072257652316] \n",
      "\n",
      "Iteration No: 26 ended. Evaluation done at random point.\n",
      "Time taken: 0.0889\n",
      "Function value obtained: -0.8766\n",
      "Current minimum: -0.8900\n",
      "Iteration No: 27 started. Evaluating function at random point.\n",
      "[0.09877469581360704, 123, 84, 0.18027896214743389, 0.9393359167334473] \n",
      "\n",
      "Iteration No: 27 ended. Evaluation done at random point.\n",
      "Time taken: 0.0480\n",
      "Function value obtained: -0.5000\n",
      "Current minimum: -0.8900\n",
      "Iteration No: 28 started. Evaluating function at random point.\n",
      "[0.024753483395116363, 45, 7, 0.7676898999723432, 0.7784885696151218] \n",
      "\n",
      "Iteration No: 28 ended. Evaluation done at random point.\n",
      "Time taken: 0.2069\n",
      "Function value obtained: -0.8892\n",
      "Current minimum: -0.8900\n",
      "Iteration No: 29 started. Evaluating function at random point.\n",
      "[0.07015345605895347, 11, 67, 0.16805741387355647, 0.11789212045581604] \n",
      "\n",
      "Iteration No: 29 ended. Evaluation done at random point.\n",
      "Time taken: 0.0470\n",
      "Function value obtained: -0.5000\n",
      "Current minimum: -0.8900\n",
      "Iteration No: 30 started. Evaluating function at random point.\n",
      "[0.0011282932078263237, 23, 41, 0.28390051422289364, 0.8740251538145993] \n",
      "\n",
      "Iteration No: 30 ended. Evaluation done at random point.\n",
      "Time taken: 0.0680\n",
      "Function value obtained: -0.8553\n",
      "Current minimum: -0.8900\n",
      "\n",
      "\n",
      "0:00:03.007208\n"
     ]
    }
   ],
   "source": [
    "def treinar_modelo(params):\n",
    "    learning_rate = params[0]\n",
    "    num_leaves = params[1]\n",
    "    min_child_samples = params[2]\n",
    "    subsample = params[3]\n",
    "    colsample_bytree = params[4]\n",
    "    \n",
    "    print(params, '\\n')\n",
    "    \n",
    "    mdl = LGBMClassifier(learning_rate = learning_rate, \n",
    "                         num_leaves = num_leaves, \n",
    "                         min_child_samples = min_child_samples,\n",
    "                         subsample = subsample, \n",
    "                         colsample_bytree = colsample_bytree, \n",
    "                         random_state = 0, \n",
    "                         subsample_freq = 1, \n",
    "                         n_estimators=100)\n",
    "    \n",
    "    mdl.fit(Xtrain, ytrain)\n",
    "    \n",
    "    p = mdl.predict_proba(Xtest)[:,1]\n",
    "    \n",
    "    return -roc_auc_score(ytest, p)\n",
    "\n",
    "space = [(1e-3, 1e-1, 'log-uniform'), #learning rate\n",
    "         (2, 128), # num_leaves\n",
    "         (1, 100), # min_child_samples\n",
    "         (0.05, 1.0), # subsample\n",
    "         (0.1, 1.0)] # colsample bytree\n",
    "\n",
    "from timeit import default_timer as timer\n",
    "from datetime import timedelta\n",
    "\n",
    "# Start Measure time elapsed\n",
    "start = timer()\n",
    "# Code here ...\n",
    "\n",
    "resultado = dummy_minimize(treinar_modelo, \n",
    "                           space, \n",
    "                           random_state=1, \n",
    "                           verbose=1, \n",
    "                           n_calls=30)\n",
    "\n",
    "\n",
    "# End Measure time elapsed\n",
    "end = timer()\n",
    "print('\\n')\n",
    "print(timedelta(seconds = end - start))"
   ]
  },
  {
   "cell_type": "code",
   "execution_count": 18,
   "metadata": {},
   "outputs": [
    {
     "data": {
      "text/plain": [
       "[0.014039737029591284, 17, 6, 0.6362876679396877, 0.3939804115948866]"
      ]
     },
     "execution_count": 18,
     "metadata": {},
     "output_type": "execute_result"
    }
   ],
   "source": [
    "resultado.x"
   ]
  },
  {
   "cell_type": "code",
   "execution_count": 30,
   "metadata": {},
   "outputs": [
    {
     "data": {
      "text/plain": [
       "-0.8899537555873298"
      ]
     },
     "execution_count": 30,
     "metadata": {},
     "output_type": "execute_result"
    }
   ],
   "source": [
    "resultado.fun"
   ]
  },
  {
   "cell_type": "code",
   "execution_count": null,
   "metadata": {},
   "outputs": [],
   "source": [
    "# auc = 0.8924 - [0.03844210597293627, 93, 22, 0.8889692020284521, 0.5867093706408683]"
   ]
  },
  {
   "cell_type": "markdown",
   "metadata": {},
   "source": [
    "# Bayesian Optimization"
   ]
  },
  {
   "cell_type": "code",
   "execution_count": null,
   "metadata": {},
   "outputs": [],
   "source": [
    "# Meus testes \n",
    "[0.014039737029591284, 17, 6, 0.6362876679396877, 0.3939804115948866] -> 0.8900\n",
    "[0.0011282932078263237, 23, 41, 0.28390051422289364, 0.8740251538145993] -> 0.8553"
   ]
  },
  {
   "cell_type": "code",
   "execution_count": null,
   "metadata": {},
   "outputs": [],
   "source": [
    "[0.03844210597293627, 93, 22, 0.8889692020284521, 0.5867093706408683] -> 0.8924\n",
    "[0.0011282932078263237, 23, 41, 0.28390051422289364, 0.8740251538145993] -> 0.8398"
   ]
  },
  {
   "cell_type": "code",
   "execution_count": 19,
   "metadata": {},
   "outputs": [],
   "source": [
    "from skopt import gp_minimize"
   ]
  },
  {
   "cell_type": "code",
   "execution_count": 24,
   "metadata": {},
   "outputs": [],
   "source": [
    "?gp_minimize"
   ]
  },
  {
   "cell_type": "code",
   "execution_count": 20,
   "metadata": {
    "scrolled": true
   },
   "outputs": [
    {
     "name": "stdout",
     "output_type": "stream",
     "text": [
      "Iteration No: 1 started. Evaluating function at random point.\n",
      "[0.09871192514273254, 120, 14, 0.9990884895579377, 0.3124800792567785] \n",
      "\n",
      "Iteration No: 1 ended. Evaluation done at random point.\n",
      "Time taken: 0.1719\n",
      "Function value obtained: -0.8867\n",
      "Current minimum: -0.8867\n",
      "Iteration No: 2 started. Evaluating function at random point.\n",
      "[0.006210998932353835, 51, 67, 0.9387621172657304, 0.8616798250174156] \n",
      "\n",
      "Iteration No: 2 ended. Evaluation done at random point.\n",
      "Time taken: 0.0979\n",
      "Function value obtained: -0.8618\n",
      "Current minimum: -0.8867\n",
      "Iteration No: 3 started. Evaluating function at random point.\n",
      "[0.004232013397179603, 68, 45, 0.2680983530433343, 0.5809725180523154] \n",
      "\n",
      "Iteration No: 3 ended. Evaluation done at random point.\n",
      "Time taken: 0.0650\n",
      "Function value obtained: -0.8696\n",
      "Current minimum: -0.8867\n",
      "Iteration No: 4 started. Evaluating function at random point.\n",
      "[0.0672858974212934, 60, 44, 0.9421713999524447, 0.8005503127028804] \n",
      "\n",
      "Iteration No: 4 ended. Evaluation done at random point.\n",
      "Time taken: 0.0919\n",
      "Function value obtained: -0.8844\n",
      "Current minimum: -0.8867\n",
      "Iteration No: 5 started. Evaluating function at random point.\n",
      "[0.027035912483147396, 103, 10, 0.5422449214947946, 0.8785182267810853] \n",
      "\n",
      "Iteration No: 5 ended. Evaluation done at random point.\n",
      "Time taken: 0.1729\n",
      "Function value obtained: -0.8817\n",
      "Current minimum: -0.8867\n",
      "Iteration No: 6 started. Evaluating function at random point.\n",
      "[0.045529597892867466, 107, 28, 0.1062810412364853, 0.7034752360620511] \n",
      "\n",
      "Iteration No: 6 ended. Evaluation done at random point.\n",
      "Time taken: 0.0600\n",
      "Function value obtained: -0.8687\n",
      "Current minimum: -0.8867\n",
      "Iteration No: 7 started. Evaluating function at random point.\n",
      "[0.01535080081765723, 87, 42, 0.23767335308554222, 0.3606666764912312] \n",
      "\n",
      "Iteration No: 7 ended. Evaluation done at random point.\n",
      "Time taken: 0.0670\n",
      "Function value obtained: -0.8749\n",
      "Current minimum: -0.8867\n",
      "Iteration No: 8 started. Evaluating function at random point.\n",
      "[0.0019241559628256106, 101, 42, 0.0824627456265471, 0.661626987829618] \n",
      "\n",
      "Iteration No: 8 ended. Evaluation done at random point.\n",
      "Time taken: 0.0440\n",
      "Function value obtained: -0.5000\n",
      "Current minimum: -0.8867\n",
      "Iteration No: 9 started. Evaluating function at random point.\n",
      "[0.02095421812724112, 40, 45, 0.2610183201586061, 0.16602775456833962] \n",
      "\n",
      "Iteration No: 9 ended. Evaluation done at random point.\n",
      "Time taken: 0.0660\n",
      "Function value obtained: -0.8744\n",
      "Current minimum: -0.8867\n",
      "Iteration No: 10 started. Evaluating function at random point.\n",
      "[0.008679147174590262, 14, 90, 0.163515944581681, 0.5723194391834011] \n",
      "\n",
      "Iteration No: 10 ended. Evaluation done at random point.\n",
      "Time taken: 1.5444\n",
      "Function value obtained: -0.5000\n",
      "Current minimum: -0.8867\n",
      "Iteration No: 11 started. Searching for the next optimal point.\n",
      "[0.1, 122, 1, 0.2621890887968777, 0.9947326875442234] \n",
      "\n",
      "Iteration No: 11 ended. Search finished for the next optimal point.\n",
      "Time taken: 1.2798\n",
      "Function value obtained: -0.8776\n",
      "Current minimum: -0.8867\n",
      "Iteration No: 12 started. Searching for the next optimal point.\n",
      "[0.005590406042857896, 18, 55, 0.9708321121438169, 0.8663012671359043] \n",
      "\n",
      "Iteration No: 12 ended. Search finished for the next optimal point.\n",
      "Time taken: 0.6693\n",
      "Function value obtained: -0.8650\n",
      "Current minimum: -0.8867\n",
      "Iteration No: 13 started. Searching for the next optimal point.\n",
      "[0.03791023195222835, 42, 54, 0.9476983968227213, 0.8365313057642632] \n",
      "\n",
      "Iteration No: 13 ended. Search finished for the next optimal point.\n",
      "Time taken: 0.5877\n",
      "Function value obtained: -0.8823\n",
      "Current minimum: -0.8867\n",
      "Iteration No: 14 started. Searching for the next optimal point.\n",
      "[0.060655806369358425, 120, 15, 0.11300765546349181, 0.9802891598922336] \n",
      "\n",
      "Iteration No: 14 ended. Search finished for the next optimal point.\n",
      "Time taken: 0.5707\n",
      "Function value obtained: -0.8534\n",
      "Current minimum: -0.8867\n",
      "Iteration No: 15 started. Searching for the next optimal point.\n",
      "[0.036661366128335655, 109, 13, 0.9900018416939681, 0.6336654777445603] \n",
      "\n",
      "Iteration No: 15 ended. Search finished for the next optimal point.\n",
      "Time taken: 0.8381\n",
      "Function value obtained: -0.8891\n",
      "Current minimum: -0.8891\n",
      "Iteration No: 16 started. Searching for the next optimal point.\n",
      "[0.004347890492347293, 89, 83, 0.5557752104700072, 0.8011489479787327] \n",
      "\n",
      "Iteration No: 16 ended. Search finished for the next optimal point.\n",
      "Time taken: 0.6721\n",
      "Function value obtained: -0.8636\n",
      "Current minimum: -0.8891\n",
      "Iteration No: 17 started. Searching for the next optimal point.\n",
      "[0.009904584313371293, 22, 67, 0.5077586684195315, 0.5304808733884423] \n",
      "\n",
      "Iteration No: 17 ended. Search finished for the next optimal point.\n",
      "Time taken: 0.6946\n",
      "Function value obtained: -0.8713\n",
      "Current minimum: -0.8891\n",
      "Iteration No: 18 started. Searching for the next optimal point.\n",
      "[0.006940417983751877, 98, 30, 0.46871088534194816, 0.8847358603813024] \n",
      "\n",
      "Iteration No: 18 ended. Search finished for the next optimal point.\n",
      "Time taken: 0.9785\n",
      "Function value obtained: -0.8691\n",
      "Current minimum: -0.8891\n",
      "Iteration No: 19 started. Searching for the next optimal point.\n",
      "[0.006997702877751999, 125, 16, 0.3116258851373325, 0.8956916360186166] \n",
      "\n",
      "Iteration No: 19 ended. Search finished for the next optimal point.\n",
      "Time taken: 1.0522\n",
      "Function value obtained: -0.8695\n",
      "Current minimum: -0.8891\n",
      "Iteration No: 20 started. Searching for the next optimal point.\n",
      "[0.1, 15, 1, 0.7550673694195643, 0.30298725450808667] \n",
      "\n",
      "Iteration No: 20 ended. Search finished for the next optimal point.\n",
      "Time taken: 0.9824\n",
      "Function value obtained: -0.8963\n",
      "Current minimum: -0.8963\n",
      "Iteration No: 21 started. Searching for the next optimal point.\n",
      "[0.001, 23, 1, 0.7600830566179052, 0.223492367488177] \n",
      "\n",
      "Iteration No: 21 ended. Search finished for the next optimal point.\n",
      "Time taken: 0.8480\n",
      "Function value obtained: -0.8753\n",
      "Current minimum: -0.8963\n",
      "Iteration No: 22 started. Searching for the next optimal point.\n",
      "[0.07152689418408238, 106, 4, 0.7485875686467265, 0.811207668154367] \n",
      "\n",
      "Iteration No: 22 ended. Search finished for the next optimal point.\n",
      "Time taken: 1.2524\n",
      "Function value obtained: -0.8927\n",
      "Current minimum: -0.8963\n",
      "Iteration No: 23 started. Searching for the next optimal point.\n",
      "[0.1, 21, 100, 0.7289777744033173, 0.47314195622009425] \n",
      "\n",
      "Iteration No: 23 ended. Search finished for the next optimal point.\n",
      "Time taken: 1.0142\n",
      "Function value obtained: -0.8765\n",
      "Current minimum: -0.8963\n",
      "Iteration No: 24 started. Searching for the next optimal point.\n",
      "[0.010394292528167782, 40, 57, 0.8104735953657147, 0.5187238727755277] \n",
      "\n",
      "Iteration No: 24 ended. Search finished for the next optimal point.\n",
      "Time taken: 0.9285\n",
      "Function value obtained: -0.8724\n",
      "Current minimum: -0.8963\n",
      "Iteration No: 25 started. Searching for the next optimal point.\n",
      "[0.1, 128, 31, 0.1754739889244506, 0.23582050165536342] \n",
      "\n",
      "Iteration No: 25 ended. Search finished for the next optimal point.\n",
      "Time taken: 0.8574\n",
      "Function value obtained: -0.8692\n",
      "Current minimum: -0.8963\n",
      "Iteration No: 26 started. Searching for the next optimal point.\n",
      "[0.001, 24, 1, 1.0, 0.1] \n",
      "\n",
      "Iteration No: 26 ended. Search finished for the next optimal point.\n",
      "Time taken: 0.9435\n",
      "Function value obtained: -0.8351\n",
      "Current minimum: -0.8963\n",
      "Iteration No: 27 started. Searching for the next optimal point.\n",
      "[0.1, 2, 100, 1.0, 0.1] \n",
      "\n",
      "Iteration No: 27 ended. Search finished for the next optimal point.\n",
      "Time taken: 0.7836\n",
      "Function value obtained: -0.8764\n",
      "Current minimum: -0.8963\n",
      "Iteration No: 28 started. Searching for the next optimal point.\n",
      "[0.0848400401232509, 63, 26, 0.9647352400340653, 0.3852361994954352] \n",
      "\n",
      "Iteration No: 28 ended. Search finished for the next optimal point.\n",
      "Time taken: 0.9534\n",
      "Function value obtained: -0.8853\n",
      "Current minimum: -0.8963\n",
      "Iteration No: 29 started. Searching for the next optimal point.\n",
      "[0.1, 30, 44, 0.6325817912422603, 0.43863083570253725] \n",
      "\n",
      "Iteration No: 29 ended. Search finished for the next optimal point.\n",
      "Time taken: 0.9790\n",
      "Function value obtained: -0.8862\n",
      "Current minimum: -0.8963\n",
      "Iteration No: 30 started. Searching for the next optimal point.\n",
      "[0.1, 87, 1, 0.46208881442821104, 0.36807751948757195] \n",
      "\n",
      "Iteration No: 30 ended. Search finished for the next optimal point.\n",
      "Time taken: 1.4206\n",
      "Function value obtained: -0.8930\n",
      "Current minimum: -0.8963\n",
      "\n",
      "\n",
      "0:00:20.764511\n"
     ]
    }
   ],
   "source": [
    "from timeit import default_timer as timer\n",
    "from datetime import timedelta\n",
    "\n",
    "# Start Measure time elapsed\n",
    "start = timer()\n",
    "# Code here ...\n",
    "\n",
    "resultados_gp = gp_minimize(treinar_modelo, \n",
    "                            space, \n",
    "                            random_state = 1, \n",
    "                            verbose = 1, \n",
    "                            n_calls = 30, \n",
    "                            n_random_starts = 10) # \n",
    "\n",
    "# End Measure time elapsed\n",
    "end = timer()\n",
    "print('\\n')\n",
    "print(timedelta(seconds = end - start))"
   ]
  },
  {
   "cell_type": "code",
   "execution_count": 21,
   "metadata": {},
   "outputs": [],
   "source": [
    "from skopt.plots import plot_convergence"
   ]
  },
  {
   "cell_type": "code",
   "execution_count": 22,
   "metadata": {},
   "outputs": [
    {
     "data": {
      "text/plain": [
       "<matplotlib.axes._subplots.AxesSubplot at 0x25bbc995278>"
      ]
     },
     "execution_count": 22,
     "metadata": {},
     "output_type": "execute_result"
    },
    {
     "data": {
      "image/png": "[encoded data removed]",
      "text/plain": [
       "<Figure size 432x288 with 1 Axes>"
      ]
     },
     "metadata": {
      "needs_background": "light"
     },
     "output_type": "display_data"
    }
   ],
   "source": [
    "# Meus resultados\n",
    "plot_convergence(resultado, resultados_gp)"
   ]
  },
  {
   "cell_type": "code",
   "execution_count": 40,
   "metadata": {},
   "outputs": [
    {
     "data": {
      "text/plain": [
       "<matplotlib.axes._subplots.AxesSubplot at 0x7fdc917ce3c8>"
      ]
     },
     "execution_count": 40,
     "metadata": {},
     "output_type": "execute_result"
    },
    {
     "data": {
      "image/png": "[encoded data removed]",
      "text/plain": [
       "<Figure size 432x288 with 1 Axes>"
      ]
     },
     "metadata": {
      "needs_background": "light"
     },
     "output_type": "display_data"
    }
   ],
   "source": [
    "# Não rodar esse aqui\n",
    "plot_convergence(resultado, resultados_gp)"
   ]
  },
  {
   "cell_type": "markdown",
   "metadata": {},
   "source": [
    "# exploration exploitation tradeoff"
   ]
  },
  {
   "cell_type": "code",
   "execution_count": 23,
   "metadata": {},
   "outputs": [
    {
     "data": {
      "text/plain": [
       "[0.1, 15, 1, 0.7550673694195643, 0.30298725450808667]"
      ]
     },
     "execution_count": 23,
     "metadata": {},
     "output_type": "execute_result"
    }
   ],
   "source": [
    "resultados_gp.x"
   ]
  },
  {
   "cell_type": "code",
   "execution_count": 28,
   "metadata": {},
   "outputs": [
    {
     "data": {
      "text/plain": [
       "-0.8963429557779753"
      ]
     },
     "execution_count": 28,
     "metadata": {},
     "output_type": "execute_result"
    }
   ],
   "source": [
    "resultados_gp.fun"
   ]
  },
  {
   "cell_type": "code",
   "execution_count": null,
   "metadata": {},
   "outputs": [],
   "source": [
    "# Meus resultados\n",
    "# auc = 0.8900 -> [0.014039737029591284, 17, 6, 0.6362876679396877, 0.3939804115948866]\n",
    "# auc_gp = 0.8963 -> [0.1, 15, 1, 0.7550673694195643, 0.30298725450808667]"
   ]
  },
  {
   "cell_type": "code",
   "execution_count": null,
   "metadata": {},
   "outputs": [],
   "source": [
    "# auc = 0.8924 - [0.03844210597293627, 93, 22, 0.8889692020284521, 0.5867093706408683]\n",
    "# auc = 0.8991 - [0.1, 118, 1, 0.41832604811717616, 0.8614352657429701"
   ]
  }
 ],
 "metadata": {
  "kernelspec": {
   "display_name": "Python 3",
   "language": "python",
   "name": "python3"
  },
  "language_info": {
   "codemirror_mode": {
    "name": "ipython",
    "version": 3
   },
   "file_extension": ".py",
   "mimetype": "text/x-python",
   "name": "python",
   "nbconvert_exporter": "python",
   "pygments_lexer": "ipython3",
   "version": "3.6.9"
  }
 },
 "nbformat": 4,
 "nbformat_minor": 4
}
